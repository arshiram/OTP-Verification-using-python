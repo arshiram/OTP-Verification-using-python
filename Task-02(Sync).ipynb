{
 "cells": [
  {
   "cell_type": "markdown",
   "id": "ac30d51f",
   "metadata": {},
   "source": [
    "# ARSHIYA IRAM AQUEEL AHMED\n",
    "### Python INTERN @ Synce Interns ¶\n",
    "## TASK-TWO....OTP Verification using python"
   ]
  },
  {
   "cell_type": "code",
   "execution_count": 1,
   "id": "08c285b5",
   "metadata": {},
   "outputs": [],
   "source": [
    "import os\n",
    "import math\n",
    "import random\n",
    "import smtplib"
   ]
  },
  {
   "cell_type": "code",
   "execution_count": 2,
   "id": "b2b5c62a",
   "metadata": {},
   "outputs": [],
   "source": [
    "digits=\"0123456789\"\n",
    "OTP=\"\"\n",
    "for i in range(6):\n",
    "    OTP+=digits[math.floor(random.random()*10)]\n",
    "otp = OTP + \" is your OTP\"\n",
    "msg= otp"
   ]
  },
  {
   "cell_type": "code",
   "execution_count": 10,
   "id": "03b5423b",
   "metadata": {},
   "outputs": [
    {
     "name": "stdout",
     "output_type": "stream",
     "text": [
      "Enter your email: arshiyairam002@gmail.com\n",
      "Enter your OTP >>: 585254\n",
      "Please Check your OTP again\n"
     ]
    }
   ],
   "source": [
    "s = smtplib.SMTP('smtp.gmail.com', 587)\n",
    "s.starttls()\n",
    "\n",
    "emailid = input(\"Enter your email: \")\n",
    "s.login(emailid, \"azptxxezvsdsjurf\")\n",
    "s.sendmail('&&&&&&',emailid,msg)\n",
    "\n",
    "a = input(\"Enter your OTP >>: \")\n",
    "if a == OTP:\n",
    "    print(\"Verified\")\n",
    "else:\n",
    "    print(\"Please Check your OTP again\")"
   ]
  },
  {
   "cell_type": "code",
   "execution_count": null,
   "id": "c98ada58",
   "metadata": {},
   "outputs": [],
   "source": []
  }
 ],
 "metadata": {
  "kernelspec": {
   "display_name": "Python 3 (ipykernel)",
   "language": "python",
   "name": "python3"
  },
  "language_info": {
   "codemirror_mode": {
    "name": "ipython",
    "version": 3
   },
   "file_extension": ".py",
   "mimetype": "text/x-python",
   "name": "python",
   "nbconvert_exporter": "python",
   "pygments_lexer": "ipython3",
   "version": "3.9.12"
  }
 },
 "nbformat": 4,
 "nbformat_minor": 5
}
